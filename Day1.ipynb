{
 "cells": [
  {
   "cell_type": "code",
   "execution_count": 1,
   "id": "af154b59",
   "metadata": {},
   "outputs": [
    {
     "name": "stdout",
     "output_type": "stream",
     "text": [
      "1.4.0\n"
     ]
    }
   ],
   "source": [
    "import sys, os\n",
    "import numpy as np\n",
    "import torch\n",
    "print(torch.__version__)\n",
    "\n",
    "import matplotlib.pyplot as plt\n",
    "%matplotlib inline"
   ]
  },
  {
   "cell_type": "code",
   "execution_count": null,
   "id": "a1df65dc",
   "metadata": {},
   "outputs": [],
   "source": [
    "# Test\n",
    "t = torch.linspace(-10, 10, steps=10000)\n",
    "\n",
    "# compute x(t) and y(t) as defined above\n",
    "x = t - 1.5 * (15*t).cos()\n",
    "y = t - 1.5 * (14*t).sin()\n",
    "\n",
    "plt.plot(x.numpy(), y.numpy())\n"
   ]
  },
  {
   "cell_type": "code",
   "execution_count": null,
   "id": "bb0edf4a",
   "metadata": {},
   "outputs": [],
   "source": [
    "# Boston house price\n",
    "from sklearn.datasets import load_boston\n",
    "boston = load_boston()\n",
    "plt.scatter(boston.data[:, -1], boston.target)\n",
    "\n",
    "boston.data[:]"
   ]
  },
  {
   "cell_type": "code",
   "execution_count": null,
   "id": "5845c859",
   "metadata": {},
   "outputs": [],
   "source": [
    "# Simple linear regression with PyTorch\n",
    "\n",
    "w = torch.zeros(1, requires_grad=True)\n",
    "b = torch.zeros(1, requires_grad=True)\n",
    "\n",
    "x = torch.tensor(boston.data[:, -1] / 10, dtype=torch.float32)\n",
    "y = torch.tensor(boston.target, dtype=torch.float32)\n",
    "\n"
   ]
  },
  {
   "cell_type": "code",
   "execution_count": null,
   "id": "86eceeff",
   "metadata": {},
   "outputs": [],
   "source": [
    "y_pred = w * x + b\n",
    "loss = torch.mean((y_pred - y)**2)\n",
    "\n",
    "# propagate gradients\n",
    "loss.backward()\n",
    "print(\"dL/dw = \\n\", w.grad)\n",
    "print(\"dL/db = \\n\", b.grad)\n"
   ]
  },
  {
   "cell_type": "code",
   "execution_count": null,
   "id": "9a7e893e",
   "metadata": {},
   "outputs": [],
   "source": [
    "from IPython.display import clear_output\n",
    "for i in range(200):\n",
    "    y_pred = w * x + b\n",
    "    loss = torch.mean((y_pred - y)**2)\n",
    "    loss.backward()\n",
    "\n",
    "    # Update the weights, with lr == 0.05\n",
    "    w.data -= 0.05 * w.grad.data\n",
    "    b.data -= 0.05 * b.grad.data\n",
    "\n",
    "    # zero gradients\n",
    "    w.grad.data.zero_()\n",
    "    b.grad.data.zero_()\n",
    "\n",
    "    # the rest of code is just bells and whistles\n",
    "    if (i + 1) % 5 == 0:\n",
    "        clear_output(True)\n",
    "        plt.scatter(x.numpy(), y.numpy())\n",
    "        plt.scatter(x.numpy(), y_pred.detach().numpy(), color='orange', linewidth=5)\n",
    "        plt.show()\n",
    "\n",
    "        print(\"loss = \", loss.detach().numpy())\n",
    "        if loss.detach().numpy() < 0.5:\n",
    "            print(\"Done!\")\n",
    "            break\n"
   ]
  },
  {
   "cell_type": "code",
   "execution_count": 2,
   "id": "223fa3f8",
   "metadata": {},
   "outputs": [
    {
     "name": "stdout",
     "output_type": "stream",
     "text": [
      "File A/RGVtb2NyYXRpY2FCb2xkT2xkc3R5bGUgQm9sZC50dGY=.png is broken\n",
      "File F/Q3Jvc3NvdmVyIEJvbGRPYmxpcXVlLnR0Zg==.png is broken\n"
     ]
    }
   ],
   "source": [
    "from DataLoader import notMNIST\n",
    "dataset = notMNIST(\"/Users/czkaiweb/Research/DeepVision/dataset/notMNIST_small\")"
   ]
  },
  {
   "cell_type": "code",
   "execution_count": 3,
   "id": "05c3f56d",
   "metadata": {},
   "outputs": [
    {
     "data": {
      "image/png": "[encoded data removed]",
      "text/plain": [
       "<Figure size 432x288 with 1 Axes>"
      ]
     },
     "metadata": {
      "needs_background": "light"
     },
     "output_type": "display_data"
    }
   ],
   "source": [
    "# Using DataLoader as generator to get item from notMNIST dataset\n",
    "from torch.utils.data import DataLoader,Sampler\n",
    "train_loader = DataLoader(dataset=dataset, batch_size=128, shuffle=True)\n",
    "\n",
    "def display():\n",
    "    for step, data in enumerate(train_loader,0):\n",
    "        train_x, train_y = data\n",
    "        plt.imshow(train_x[0].reshape([28, 28]))\n",
    "        if step == 0:\n",
    "            break\n",
    "        \n",
    "display()"
   ]
  },
  {
   "cell_type": "code",
   "execution_count": null,
   "id": "d5981f7c",
   "metadata": {},
   "outputs": [],
   "source": [
    "# A simpler way:\n",
    "#from torchvision import datasets,transforms\n",
    "#dataloader = datasets.ImageFolder(root=\"/Users/czkaiweb/Research/DeepVision/dataset/notMNIST_small\")\n",
    "\n"
   ]
  },
  {
   "cell_type": "code",
   "execution_count": 4,
   "id": "6562f7b4",
   "metadata": {},
   "outputs": [
    {
     "name": "stdout",
     "output_type": "stream",
     "text": [
      "Base class for all neural network modules.\n",
      "\n",
      "    Your models should also subclass this class.\n",
      "\n",
      "    Modules can also contain other Modules, allowing to nest them in\n",
      "    a tree structure. You can assign the submodules as regular attributes::\n",
      "\n",
      "        import torch.nn as nn\n",
      "        import torch.nn.functional as F\n",
      "\n",
      "        class Model(nn.Module):\n",
      "            def __init__(self):\n",
      "                super(Model, self).__init__()\n",
      "                self.conv1 = nn.Conv2d(1, 20, 5)\n",
      "                self.conv2 = nn.Conv2d(20, 20, 5)\n",
      "\n",
      "            def forward(self, x):\n",
      "                x = F.relu(self.conv1(x))\n",
      "                return F.relu(self.conv2(x))\n",
      "\n",
      "    Submodules assigned in this way will be registered, and will have their\n",
      "    parameters converted too when you call :meth:`to`, etc.\n",
      "    \n"
     ]
    }
   ],
   "source": [
    "## Start with layers\n",
    "from torch import nn\n",
    "print(nn.Module.__doc__)"
   ]
  },
  {
   "cell_type": "code",
   "execution_count": 5,
   "id": "441a02c9",
   "metadata": {},
   "outputs": [],
   "source": [
    "from Model import Model\n",
    "\n",
    "model = Model()\n",
    "\n",
    "opt = torch.optim.Adam(model.parameters(), lr=1e-3)\n",
    "crossentropy = nn.CrossEntropyLoss()\n"
   ]
  },
  {
   "cell_type": "code",
   "execution_count": 6,
   "id": "61047ba2",
   "metadata": {},
   "outputs": [
    {
     "name": "stderr",
     "output_type": "stream",
     "text": [
      "/opt/anaconda3/envs/Erdos/lib/python3.7/site-packages/ipykernel_launcher.py:9: UserWarning: To copy construct from a tensor, it is recommended to use sourceTensor.clone().detach() or sourceTensor.clone().detach().requires_grad_(True), rather than torch.tensor(sourceTensor).\n",
      "  if __name__ == '__main__':\n",
      "/opt/anaconda3/envs/Erdos/lib/python3.7/site-packages/ipykernel_launcher.py:10: UserWarning: To copy construct from a tensor, it is recommended to use sourceTensor.clone().detach() or sourceTensor.clone().detach().requires_grad_(True), rather than torch.tensor(sourceTensor).\n",
      "  # Remove the CWD from sys.path while we load stuff.\n",
      "/opt/anaconda3/envs/Erdos/lib/python3.7/site-packages/torch/nn/functional.py:1351: UserWarning: nn.functional.sigmoid is deprecated. Use torch.sigmoid instead.\n",
      "  warnings.warn(\"nn.functional.sigmoid is deprecated. Use torch.sigmoid instead.\")\n",
      "/Users/czkaiweb/Research/DeepVision/Model.py:14: UserWarning: Implicit dimension choice for softmax has been deprecated. Change the call to include dim=X as an argument.\n",
      "  x = F.softmax(self.lin2(x))\n"
     ]
    },
    {
     "name": "stdout",
     "output_type": "stream",
     "text": [
      "Epoch 10, loss 2.003589790161342\n",
      "Epoch 20, loss 1.8347971186245957\n",
      "Epoch 30, loss 1.7652716293726882\n",
      "Epoch 40, loss 1.6603884394854715\n",
      "Epoch 50, loss 1.6219551636748117\n",
      "Epoch 60, loss 1.6085170589081228\n",
      "Epoch 70, loss 1.6000593247478956\n",
      "Epoch 80, loss 1.594302477901929\n",
      "Epoch 90, loss 1.5894361922185716\n",
      "Epoch 100, loss 1.585938373657122\n"
     ]
    }
   ],
   "source": [
    "loss_history = []\n",
    "def train(epoch):\n",
    "    maxstep = 0\n",
    "    epoch_loss = 0\n",
    "    n_batches = len(dataset)//128\n",
    "    for step,data in enumerate(train_loader,0):\n",
    "        train_x, train_y = data\n",
    "        train_x  = train_x.reshape(-1,784)\n",
    "        x = torch.tensor(train_x,dtype=torch.float32)\n",
    "        y = torch.tensor(train_y,dtype=torch.float32)\n",
    "        y_pred = model.forward(x)\n",
    "        y_pred = y_pred.view(-1,10)\n",
    "        # compute loss\n",
    "        loss = crossentropy(y_pred,y.long())\n",
    "        epoch_loss += loss.item()\n",
    "        opt.zero_grad()\n",
    "        \n",
    "        # compute gradients\n",
    "        loss.backward()\n",
    "        \n",
    "        # adam step\n",
    "        opt.step()\n",
    "        \n",
    "        # clear gradients\n",
    "        opt.zero_grad()\n",
    "        \n",
    "        if step % n_batches == 0 and step != 0 and epoch%10 == 0:\n",
    "            epoch_loss = epoch_loss / n_batches\n",
    "            loss_history.append(epoch_loss)\n",
    "            print(\"Epoch {}, loss {}\".format(epoch, epoch_loss))\n",
    "            epoch_loss = 0\n",
    "            \n",
    "for epoch in range(1, 101):\n",
    "    train(epoch)"
   ]
  },
  {
   "cell_type": "code",
   "execution_count": 9,
   "id": "33fc1fd4",
   "metadata": {},
   "outputs": [
    {
     "name": "stdout",
     "output_type": "stream",
     "text": [
      "accurancy with test sample: 0.90234375\n"
     ]
    }
   ],
   "source": [
    "## Evaluate \n",
    "correct = 0\n",
    "total = 0\n",
    "with torch.no_grad():\n",
    "    for i, data in enumerate(train_loader,0):\n",
    "        img,label = data\n",
    "        img  = img.reshape(-1,784)\n",
    "        output = model.forward(img)\n",
    "        _,predict = torch.max(output.data,1)\n",
    "        filterList = (predict == label)\n",
    "        correct += filterList.sum().data\n",
    "        total   += len(filterList)\n",
    "        \n",
    "        if i == 1:\n",
    "            break\n",
    "print(\"accurancy with test sample: {}\".format(float(correct)/total))"
   ]
  },
  {
   "cell_type": "code",
   "execution_count": null,
   "id": "42e89a6d",
   "metadata": {},
   "outputs": [],
   "source": []
  },
  {
   "cell_type": "code",
   "execution_count": null,
   "id": "9cd4893d",
   "metadata": {},
   "outputs": [],
   "source": []
  },
  {
   "cell_type": "code",
   "execution_count": null,
   "id": "6d89a952",
   "metadata": {},
   "outputs": [],
   "source": []
  }
 ],
 "metadata": {
  "kernelspec": {
   "display_name": "Python 3.7.10 64-bit ('Erdos': conda)",
   "language": "python",
   "name": "python371064biterdosconda7530abd590984c45ba6372cad090cba4"
  },
  "language_info": {
   "codemirror_mode": {
    "name": "ipython",
    "version": 3
   },
   "file_extension": ".py",
   "mimetype": "text/x-python",
   "name": "python",
   "nbconvert_exporter": "python",
   "pygments_lexer": "ipython3",
   "version": "3.7.10"
  }
 },
 "nbformat": 4,
 "nbformat_minor": 5
}
